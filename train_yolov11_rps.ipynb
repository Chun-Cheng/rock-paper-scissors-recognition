{
 "cells": [
  {
   "cell_type": "code",
   "execution_count": null,
   "id": "bdea93b9",
   "metadata": {},
   "outputs": [],
   "source": [
    "# install dependencies\n",
    "!uv sync --all-extras"
   ]
  },
  {
   "cell_type": "code",
   "execution_count": 1,
   "id": "db0fe790",
   "metadata": {},
   "outputs": [],
   "source": [
    "# load a COCO-pretrained YOLO11n model\n",
    "from ultralytics import YOLO\n",
    "model = YOLO(\"weights/yolo11n.pt\")"
   ]
  },
  {
   "cell_type": "code",
   "execution_count": null,
   "id": "1acddf35",
   "metadata": {},
   "outputs": [],
   "source": [
    "# load database from KaggleHub\n",
    "import kagglehub\n",
    "path = adilshamim8_rock_paper_scissors_path = kagglehub.dataset_download('adilshamim8/rock-paper-scissors')\n",
    "print(\"Path to dataset files:\", path)"
   ]
  },
  {
   "cell_type": "code",
   "execution_count": 3,
   "id": "b573f230",
   "metadata": {},
   "outputs": [],
   "source": [
    "import os\n",
    "import pandas as pd\n",
    "from PIL import Image\n",
    "from sklearn.model_selection import train_test_split\n",
    "import shutil\n",
    "\n",
    "# 設定原始資料位置\n",
    "DATA_DIR = os.path.join(path, 'train', 'train')\n",
    "ANNOTATION_FILE = os.path.join(DATA_DIR, '_annotations.csv')\n",
    "YOLO_DATASET_DIR = 'data/yolov11_rps_dataset'\n",
    "os.makedirs(YOLO_DATASET_DIR, exist_ok=True)"
   ]
  },
  {
   "cell_type": "code",
   "execution_count": null,
   "id": "7ac20fe4",
   "metadata": {},
   "outputs": [],
   "source": [
    "# read annotation CSV\n",
    "df = pd.read_csv(ANNOTATION_FILE)\n",
    "\n",
    "# class mapping\n",
    "class_map = {'Rock': 0, 'Paper': 1, 'Scissors': 2}\n",
    "\n",
    "# split train/val\n",
    "train_df, val_df = train_test_split(df, test_size=0.2, random_state=42)\n",
    "\n",
    "def convert_and_save(df_split, split_name):\n",
    "    image_dir = os.path.join(YOLO_DATASET_DIR, 'images', split_name)\n",
    "    label_dir = os.path.join(YOLO_DATASET_DIR, 'labels', split_name)\n",
    "    os.makedirs(image_dir, exist_ok=True)\n",
    "    os.makedirs(label_dir, exist_ok=True)\n",
    "\n",
    "    for _, row in df_split.iterrows():\n",
    "        filename = row['filename']\n",
    "        label = row['class']\n",
    "        xmin, ymin, xmax, ymax = row[['xmin', 'ymin', 'xmax', 'ymax']]\n",
    "\n",
    "        img_path = os.path.join(DATA_DIR, filename)\n",
    "        img = Image.open(img_path)\n",
    "        w, h = img.size\n",
    "\n",
    "        # 轉為 YOLO 格式 (中心 x/y, 寬, 高，全都除以圖像寬高)\n",
    "        x_center = (xmin + xmax) / 2 / w\n",
    "        y_center = (ymin + ymax) / 2 / h\n",
    "        box_width = (xmax - xmin) / w\n",
    "        box_height = (ymax - ymin) / h\n",
    "\n",
    "        label_id = class_map[label]\n",
    "        yolo_line = f\"{label_id} {x_center:.6f} {y_center:.6f} {box_width:.6f} {box_height:.6f}\"\n",
    "\n",
    "        # 複製圖檔 + 儲存標註檔\n",
    "        shutil.copy(img_path, os.path.join(image_dir, filename))\n",
    "        with open(os.path.join(label_dir, filename.replace('.jpg', '.txt')), 'a') as f:\n",
    "            f.write(yolo_line + '\\n')\n",
    "\n",
    "# convert the annotation to yolo format and save train/val splits\n",
    "convert_and_save(train_df, 'train')\n",
    "convert_and_save(val_df, 'val')\n",
    "print(\"Format conversion complete\")"
   ]
  },
  {
   "cell_type": "code",
   "execution_count": null,
   "id": "37f76436",
   "metadata": {},
   "outputs": [],
   "source": [
    "DATA_YAML_PATH = \"data/yolov11_rps_dataset/data.yaml\"\n",
    "\n",
    "# create YOLO training configuration\n",
    "data_yaml = '''\\\n",
    "train: images/train\n",
    "val: images/val\n",
    "\n",
    "nc: 3\n",
    "names: ['Rock', 'Paper', 'Scissors']\n",
    "'''\n",
    "with open(DATA_YAML_PATH, 'w') as f:\n",
    "    f.write(data_yaml)\n",
    "\n",
    "print(\"data.yaml created\")"
   ]
  },
  {
   "cell_type": "code",
   "execution_count": null,
   "id": "05ba1dca",
   "metadata": {},
   "outputs": [],
   "source": [
    "results = model.train(\n",
    "    data=DATA_YAML_PATH,\n",
    "    epochs=25,\n",
    "    batch=8,\n",
    "    imgsz=640,\n",
    "    device=\"mps\",  # remove device=\"mps\" if not using Apple Silicon\n",
    "    save_period=5, # save checkpoint every 5 epochs\n",
    ")"
   ]
  },
  {
   "cell_type": "code",
   "execution_count": null,
   "id": "9d0506d3",
   "metadata": {},
   "outputs": [],
   "source": [
    "model.export()"
   ]
  }
 ],
 "metadata": {
  "kernelspec": {
   "display_name": ".venv",
   "language": "python",
   "name": "python3"
  },
  "language_info": {
   "codemirror_mode": {
    "name": "ipython",
    "version": 3
   },
   "file_extension": ".py",
   "mimetype": "text/x-python",
   "name": "python",
   "nbconvert_exporter": "python",
   "pygments_lexer": "ipython3",
   "version": "3.13.2"
  }
 },
 "nbformat": 4,
 "nbformat_minor": 5
}
